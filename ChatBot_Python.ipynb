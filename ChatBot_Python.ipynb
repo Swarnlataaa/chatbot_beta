{
  "nbformat": 4,
  "nbformat_minor": 0,
  "metadata": {
    "colab": {
      "provenance": [],
      "authorship_tag": "ABX9TyMsYtdZhNm0yWtbAel4TYBJ",
      "include_colab_link": true
    },
    "kernelspec": {
      "name": "python3",
      "display_name": "Python 3"
    },
    "language_info": {
      "name": "python"
    }
  },
  "cells": [
    {
      "cell_type": "markdown",
      "metadata": {
        "id": "view-in-github",
        "colab_type": "text"
      },
      "source": [
        "<a href=\"https://colab.research.google.com/github/Swarnlataaa/chatbot_beta/blob/main/ChatBot_Python.ipynb\" target=\"_parent\"><img src=\"https://colab.research.google.com/assets/colab-badge.svg\" alt=\"Open In Colab\"/></a>"
      ]
    },
    {
      "cell_type": "code",
      "execution_count": null,
      "metadata": {
        "id": "D5RaNKSv1T1u"
      },
      "outputs": [],
      "source": [
        "import numpy as np\n",
        "import nltk\n",
        "import string\n",
        "import random\n"
      ]
    },
    {
      "cell_type": "code",
      "source": [
        "f=open('chatbot.txt','r',errors='ignore')\n",
        "raw_doc=f.read()\n",
        "raw_doc=raw_doc.lower() #Converts text to lowecase\n",
        "nltk.download('punkt')\n",
        "nltk.download('wordnet')\n",
        "sent_tokens =nltk.sent_tokenize(raw_doc)\n",
        "word_tokens =nltk.word_tokenize(raw_doc)"
      ],
      "metadata": {
        "colab": {
          "base_uri": "https://localhost:8080/"
        },
        "id": "5Myfoa4k6jbT",
        "outputId": "0c68f113-a7e7-422a-e5d2-bd0a5143c225"
      },
      "execution_count": null,
      "outputs": [
        {
          "output_type": "stream",
          "name": "stderr",
          "text": [
            "[nltk_data] Downloading package punkt to /root/nltk_data...\n",
            "[nltk_data]   Unzipping tokenizers/punkt.zip.\n",
            "[nltk_data] Downloading package wordnet to /root/nltk_data...\n"
          ]
        }
      ]
    },
    {
      "cell_type": "code",
      "source": [
        "lemmer =nltk.stem.WordNetLemmatizer()\n",
        "#Wordnet is a semantically-oriented dictionary of english included in NLTK\n",
        "def lemTokens(tokens):\n",
        "  return[lemmer.lemmatize(token)for token in tokens]\n",
        "  remove_punct_dict =dict(ord(punct),None) for punct in string.punctuation)\n",
        "  def LemNormalize(text):\n",
        "    return LemToken(nltk.word_tokenize(text.lower().translate(remove_punct_dict)))"
      ],
      "metadata": {
        "id": "LvX931M_9n7h"
      },
      "execution_count": null,
      "outputs": []
    },
    {
      "cell_type": "code",
      "source": [
        "GREET_INPUTS= (\"hello\",\"hi\",\"greetings\",\"sup\",\"whatsup\")\n",
        "GREET_RESOURCES =[\"hi\", \"hey\",\"hi there\"]\n",
        "def greet(sentence):\n",
        "\n",
        "  for word in sentence.split():\n",
        "    if word.lower() in GREET_INPUTS:\n",
        "      return random.choice(GREET_RESPONSES)"
      ],
      "metadata": {
        "id": "dbIYLZAB-1h5"
      },
      "execution_count": null,
      "outputs": []
    },
    {
      "cell_type": "code",
      "source": [
        "from sklearn.feature_extractioin.text import TfidVectorizer\n",
        "from sklearn.metrics.pairwise import cosine_similarity\n"
      ],
      "metadata": {
        "id": "JdvrwluM_4Q6"
      },
      "execution_count": null,
      "outputs": []
    },
    {
      "cell_type": "code",
      "source": [
        "def response(user_response):\n",
        "  robo1_response=''\n",
        "  TfidfVec = TfidfVectorize(tokenizer=LemNormalize, stop_words='english')\n",
        "  tfidf = TfidfVec.fit_transform(sent_tokens)\n",
        "  vals =cosine_similarity(tfidf[-1],tfidf)\n",
        "  idx=vals.argsort()[0][-2]\n",
        "  flat =vals.flatten()"
      ],
      "metadata": {
        "id": "7NZq2Nj0AiTe"
      },
      "execution_count": null,
      "outputs": []
    },
    {
      "cell_type": "code",
      "source": [
        "flag =True\n",
        "print(\"BOT: My name is stark. Let's have a conversatiional Also,if you want to exist any time, just type Bye!\")\n",
        "while(flag==True):\n",
        "  user_response =input()\n",
        "  user_response =user_response.lower()\n",
        "  if(user_response!='bye'):\n",
        "    if(user_response=='thanks'or user_response=='thank you'):\n",
        "      flag=Flag\n",
        "      print(\"Bot you are welcome\")\n",
        "      else\n",
        "       if(greet(user_response)!=None):\n",
        "         print(\"BOT:+greet\"(user_response))\n",
        "         else:\n",
        "           sent_tokens.append(user_response)\n",
        "           word_tokens=word_tokens+nltk.word_tokenize(user_response)\n",
        "           final_words=list(set(word_tokens))\n",
        "           print(\"BOT:\", end=\"\")\n",
        "           print(response(user_response))\n",
        "           sent_tokens.remove(user_response)\n",
        "  else\n",
        "     flag=False\n",
        "     print(\"Bot goodbye take care\")\n"
      ],
      "metadata": {
        "id": "TsXr_2KMNFQR"
      },
      "execution_count": null,
      "outputs": []
    }
  ]
}